{
  "nbformat": 4,
  "nbformat_minor": 0,
  "metadata": {
    "colab": {
      "provenance": [],
      "authorship_tag": "ABX9TyOmYc26kCw6r5fRmJjFI7Do",
      "include_colab_link": true
    },
    "kernelspec": {
      "name": "python3",
      "display_name": "Python 3"
    },
    "language_info": {
      "name": "python"
    }
  },
  "cells": [
    {
      "cell_type": "markdown",
      "metadata": {
        "id": "view-in-github",
        "colab_type": "text"
      },
      "source": [
        "<a href=\"https://colab.research.google.com/github/SamuelA-R/Gasolina-SerieTemporal/blob/main/GASOLINA.ipynb\" target=\"_parent\"><img src=\"https://colab.research.google.com/assets/colab-badge.svg\" alt=\"Open In Colab\"/></a>"
      ]
    },
    {
      "cell_type": "code",
      "execution_count": 1,
      "metadata": {
        "id": "Z7VYacfSeeil"
      },
      "outputs": [],
      "source": [
        "import pandas as pd"
      ]
    },
    {
      "cell_type": "code",
      "source": [
        "df1 = pd.read_csv('gasolina_2000+.csv')\n",
        "df2 = pd.read_csv('gasolina_2010+.csv')"
      ],
      "metadata": {
        "id": "51wSyVcBerlV",
        "colab": {
          "base_uri": "https://localhost:8080/"
        },
        "outputId": "0ba3d235-0417-4c4a-c347-29432b74127d"
      },
      "execution_count": 2,
      "outputs": [
        {
          "output_type": "stream",
          "name": "stderr",
          "text": [
            "<ipython-input-2-c57a957ad8cf>:2: DtypeWarning: Columns (12,14,15,16,17,18) have mixed types. Specify dtype option on import or set low_memory=False.\n",
            "  df2 = pd.read_csv('gasolina_2010+.csv')\n"
          ]
        }
      ]
    },
    {
      "cell_type": "code",
      "source": [
        "def tamanho(x):\n",
        "    return print(f'Os dados tem {x.shape[0]} linhas e {x.shape[1]} colunas')"
      ],
      "metadata": {
        "id": "qImZeRMNewUM"
      },
      "execution_count": 3,
      "outputs": []
    },
    {
      "cell_type": "code",
      "source": [
        "tamanho(df1)\n",
        "tamanho(df2)"
      ],
      "metadata": {
        "id": "jh-y7yo_ex-b",
        "colab": {
          "base_uri": "https://localhost:8080/"
        },
        "outputId": "cced00af-4965-40c3-efbd-c30bcab52a11"
      },
      "execution_count": 4,
      "outputs": [
        {
          "output_type": "stream",
          "name": "stdout",
          "text": [
            "Os dados tem 42638 linhas e 19 colunas\n",
            "Os dados tem 78185 linhas e 19 colunas\n"
          ]
        }
      ]
    },
    {
      "cell_type": "code",
      "source": [
        "df = pd.concat([df1, df2], axis=0)\n",
        "tamanho(df)"
      ],
      "metadata": {
        "id": "5l7cZ401e2Rq",
        "colab": {
          "base_uri": "https://localhost:8080/"
        },
        "outputId": "9d6477ba-837d-4a43-8d26-534611c3e0ad"
      },
      "execution_count": 5,
      "outputs": [
        {
          "output_type": "stream",
          "name": "stdout",
          "text": [
            "Os dados tem 120823 linhas e 19 colunas\n"
          ]
        }
      ]
    },
    {
      "cell_type": "markdown",
      "source": [
        "Agora vamos construir uma tabela para saber a variação percentual do preço da gasolina ano a ano para o estado do RJ"
      ],
      "metadata": {
        "id": "CKKuvWVBfTO5"
      }
    },
    {
      "cell_type": "code",
      "source": [
        "df.info()"
      ],
      "metadata": {
        "id": "QFsax1YcfhwX",
        "colab": {
          "base_uri": "https://localhost:8080/"
        },
        "outputId": "aef66d1c-56bb-4011-9e86-47166ed36b95"
      },
      "execution_count": 6,
      "outputs": [
        {
          "output_type": "stream",
          "name": "stdout",
          "text": [
            "<class 'pandas.core.frame.DataFrame'>\n",
            "Int64Index: 120823 entries, 0 to 78184\n",
            "Data columns (total 19 columns):\n",
            " #   Column                         Non-Null Count   Dtype  \n",
            "---  ------                         --------------   -----  \n",
            " 0   Unnamed: 0                     120823 non-null  int64  \n",
            " 1   DATA INICIAL                   120823 non-null  object \n",
            " 2   DATA FINAL                     120823 non-null  object \n",
            " 3   REGIÃO                         120823 non-null  object \n",
            " 4   ESTADO                         120823 non-null  object \n",
            " 5   PRODUTO                        120823 non-null  object \n",
            " 6   NÚMERO DE POSTOS PESQUISADOS   120823 non-null  int64  \n",
            " 7   UNIDADE DE MEDIDA              120823 non-null  object \n",
            " 8   PREÇO MÉDIO REVENDA            120823 non-null  float64\n",
            " 9   DESVIO PADRÃO REVENDA          120823 non-null  float64\n",
            " 10  PREÇO MÍNIMO REVENDA           120823 non-null  float64\n",
            " 11  PREÇO MÁXIMO REVENDA           120823 non-null  float64\n",
            " 12  MARGEM MÉDIA REVENDA           120823 non-null  object \n",
            " 13  COEF DE VARIAÇÃO REVENDA       120823 non-null  float64\n",
            " 14  PREÇO MÉDIO DISTRIBUIÇÃO       120823 non-null  object \n",
            " 15  DESVIO PADRÃO DISTRIBUIÇÃO     120823 non-null  object \n",
            " 16  PREÇO MÍNIMO DISTRIBUIÇÃO      120823 non-null  object \n",
            " 17  PREÇO MÁXIMO DISTRIBUIÇÃO      120823 non-null  object \n",
            " 18  COEF DE VARIAÇÃO DISTRIBUIÇÃO  120823 non-null  object \n",
            "dtypes: float64(5), int64(2), object(12)\n",
            "memory usage: 18.4+ MB\n"
          ]
        }
      ]
    },
    {
      "cell_type": "code",
      "source": [
        "#criando coluna mês e ano-mes\n",
        "df['DATA FINAL'] = pd.to_datetime(df['DATA FINAL'])\n",
        "df['ANO-MES'] = df['DATA FINAL'].apply(lambda x: '{}'.format(x.year)) + df['DATA FINAL'].apply(lambda x: '/{:02d}'.format(x.month))\n",
        "df['MES'] = df['DATA FINAL'].apply(lambda x: x.month)\n",
        "df_rio = df[df['ESTADO'] == 'RIO DE JANEIRO']"
      ],
      "metadata": {
        "id": "1OSZ0B8zfVlI"
      },
      "execution_count": 7,
      "outputs": []
    },
    {
      "cell_type": "code",
      "source": [
        "#Agrupar por ano e mês, mostrando apenas o último mês\n",
        "df_month_rio = df_rio.groupby('ANO-MES')[['PREÇO MÉDIO REVENDA', 'MES']].last()"
      ],
      "metadata": {
        "id": "PM3AhtuOn9Yc"
      },
      "execution_count": 8,
      "outputs": []
    },
    {
      "cell_type": "code",
      "source": [
        "#Variação percentual de cada ano (Nessa tabela podemos observar como o preço subiu)\n",
        "(df_month_rio[df_month_rio['MES'] == 12] / df_month_rio[df_month_rio['MES'] == 12].shift(1) - 1) * 100"
      ],
      "metadata": {
        "id": "oTITYH2yf7kq",
        "colab": {
          "base_uri": "https://localhost:8080/",
          "height": 614
        },
        "outputId": "c212c23d-9486-4c72-85ea-cb54dc323a80"
      },
      "execution_count": 9,
      "outputs": [
        {
          "output_type": "execute_result",
          "data": {
            "text/plain": [
              "         PREÇO MÉDIO REVENDA  MES\n",
              "ANO-MES                          \n",
              "2004/12                  NaN  NaN\n",
              "2005/12            12.338063  0.0\n",
              "2006/12            -0.878638  0.0\n",
              "2007/12             0.720222  0.0\n",
              "2008/12            14.466447  0.0\n",
              "2009/12            -4.949543  0.0\n",
              "2010/12             0.202224  0.0\n",
              "2011/12             1.261352  0.0\n",
              "2012/12             5.630294  0.0\n",
              "2013/12           -21.084906  0.0\n",
              "2014/12             7.770472  0.0\n",
              "2015/12            17.304493  0.0\n",
              "2016/12            -2.269504  0.0\n",
              "2017/12             9.869376  0.0\n",
              "2018/12            35.358873  0.0\n",
              "2019/12            24.951204  0.0\n",
              "2020/12            -1.483989  0.0"
            ],
            "text/html": [
              "\n",
              "  <div id=\"df-ef2e4b15-e995-4a90-81d7-0b3ab869824f\">\n",
              "    <div class=\"colab-df-container\">\n",
              "      <div>\n",
              "<style scoped>\n",
              "    .dataframe tbody tr th:only-of-type {\n",
              "        vertical-align: middle;\n",
              "    }\n",
              "\n",
              "    .dataframe tbody tr th {\n",
              "        vertical-align: top;\n",
              "    }\n",
              "\n",
              "    .dataframe thead th {\n",
              "        text-align: right;\n",
              "    }\n",
              "</style>\n",
              "<table border=\"1\" class=\"dataframe\">\n",
              "  <thead>\n",
              "    <tr style=\"text-align: right;\">\n",
              "      <th></th>\n",
              "      <th>PREÇO MÉDIO REVENDA</th>\n",
              "      <th>MES</th>\n",
              "    </tr>\n",
              "    <tr>\n",
              "      <th>ANO-MES</th>\n",
              "      <th></th>\n",
              "      <th></th>\n",
              "    </tr>\n",
              "  </thead>\n",
              "  <tbody>\n",
              "    <tr>\n",
              "      <th>2004/12</th>\n",
              "      <td>NaN</td>\n",
              "      <td>NaN</td>\n",
              "    </tr>\n",
              "    <tr>\n",
              "      <th>2005/12</th>\n",
              "      <td>12.338063</td>\n",
              "      <td>0.0</td>\n",
              "    </tr>\n",
              "    <tr>\n",
              "      <th>2006/12</th>\n",
              "      <td>-0.878638</td>\n",
              "      <td>0.0</td>\n",
              "    </tr>\n",
              "    <tr>\n",
              "      <th>2007/12</th>\n",
              "      <td>0.720222</td>\n",
              "      <td>0.0</td>\n",
              "    </tr>\n",
              "    <tr>\n",
              "      <th>2008/12</th>\n",
              "      <td>14.466447</td>\n",
              "      <td>0.0</td>\n",
              "    </tr>\n",
              "    <tr>\n",
              "      <th>2009/12</th>\n",
              "      <td>-4.949543</td>\n",
              "      <td>0.0</td>\n",
              "    </tr>\n",
              "    <tr>\n",
              "      <th>2010/12</th>\n",
              "      <td>0.202224</td>\n",
              "      <td>0.0</td>\n",
              "    </tr>\n",
              "    <tr>\n",
              "      <th>2011/12</th>\n",
              "      <td>1.261352</td>\n",
              "      <td>0.0</td>\n",
              "    </tr>\n",
              "    <tr>\n",
              "      <th>2012/12</th>\n",
              "      <td>5.630294</td>\n",
              "      <td>0.0</td>\n",
              "    </tr>\n",
              "    <tr>\n",
              "      <th>2013/12</th>\n",
              "      <td>-21.084906</td>\n",
              "      <td>0.0</td>\n",
              "    </tr>\n",
              "    <tr>\n",
              "      <th>2014/12</th>\n",
              "      <td>7.770472</td>\n",
              "      <td>0.0</td>\n",
              "    </tr>\n",
              "    <tr>\n",
              "      <th>2015/12</th>\n",
              "      <td>17.304493</td>\n",
              "      <td>0.0</td>\n",
              "    </tr>\n",
              "    <tr>\n",
              "      <th>2016/12</th>\n",
              "      <td>-2.269504</td>\n",
              "      <td>0.0</td>\n",
              "    </tr>\n",
              "    <tr>\n",
              "      <th>2017/12</th>\n",
              "      <td>9.869376</td>\n",
              "      <td>0.0</td>\n",
              "    </tr>\n",
              "    <tr>\n",
              "      <th>2018/12</th>\n",
              "      <td>35.358873</td>\n",
              "      <td>0.0</td>\n",
              "    </tr>\n",
              "    <tr>\n",
              "      <th>2019/12</th>\n",
              "      <td>24.951204</td>\n",
              "      <td>0.0</td>\n",
              "    </tr>\n",
              "    <tr>\n",
              "      <th>2020/12</th>\n",
              "      <td>-1.483989</td>\n",
              "      <td>0.0</td>\n",
              "    </tr>\n",
              "  </tbody>\n",
              "</table>\n",
              "</div>\n",
              "      <button class=\"colab-df-convert\" onclick=\"convertToInteractive('df-ef2e4b15-e995-4a90-81d7-0b3ab869824f')\"\n",
              "              title=\"Convert this dataframe to an interactive table.\"\n",
              "              style=\"display:none;\">\n",
              "        \n",
              "  <svg xmlns=\"http://www.w3.org/2000/svg\" height=\"24px\"viewBox=\"0 0 24 24\"\n",
              "       width=\"24px\">\n",
              "    <path d=\"M0 0h24v24H0V0z\" fill=\"none\"/>\n",
              "    <path d=\"M18.56 5.44l.94 2.06.94-2.06 2.06-.94-2.06-.94-.94-2.06-.94 2.06-2.06.94zm-11 1L8.5 8.5l.94-2.06 2.06-.94-2.06-.94L8.5 2.5l-.94 2.06-2.06.94zm10 10l.94 2.06.94-2.06 2.06-.94-2.06-.94-.94-2.06-.94 2.06-2.06.94z\"/><path d=\"M17.41 7.96l-1.37-1.37c-.4-.4-.92-.59-1.43-.59-.52 0-1.04.2-1.43.59L10.3 9.45l-7.72 7.72c-.78.78-.78 2.05 0 2.83L4 21.41c.39.39.9.59 1.41.59.51 0 1.02-.2 1.41-.59l7.78-7.78 2.81-2.81c.8-.78.8-2.07 0-2.86zM5.41 20L4 18.59l7.72-7.72 1.47 1.35L5.41 20z\"/>\n",
              "  </svg>\n",
              "      </button>\n",
              "      \n",
              "  <style>\n",
              "    .colab-df-container {\n",
              "      display:flex;\n",
              "      flex-wrap:wrap;\n",
              "      gap: 12px;\n",
              "    }\n",
              "\n",
              "    .colab-df-convert {\n",
              "      background-color: #E8F0FE;\n",
              "      border: none;\n",
              "      border-radius: 50%;\n",
              "      cursor: pointer;\n",
              "      display: none;\n",
              "      fill: #1967D2;\n",
              "      height: 32px;\n",
              "      padding: 0 0 0 0;\n",
              "      width: 32px;\n",
              "    }\n",
              "\n",
              "    .colab-df-convert:hover {\n",
              "      background-color: #E2EBFA;\n",
              "      box-shadow: 0px 1px 2px rgba(60, 64, 67, 0.3), 0px 1px 3px 1px rgba(60, 64, 67, 0.15);\n",
              "      fill: #174EA6;\n",
              "    }\n",
              "\n",
              "    [theme=dark] .colab-df-convert {\n",
              "      background-color: #3B4455;\n",
              "      fill: #D2E3FC;\n",
              "    }\n",
              "\n",
              "    [theme=dark] .colab-df-convert:hover {\n",
              "      background-color: #434B5C;\n",
              "      box-shadow: 0px 1px 3px 1px rgba(0, 0, 0, 0.15);\n",
              "      filter: drop-shadow(0px 1px 2px rgba(0, 0, 0, 0.3));\n",
              "      fill: #FFFFFF;\n",
              "    }\n",
              "  </style>\n",
              "\n",
              "      <script>\n",
              "        const buttonEl =\n",
              "          document.querySelector('#df-ef2e4b15-e995-4a90-81d7-0b3ab869824f button.colab-df-convert');\n",
              "        buttonEl.style.display =\n",
              "          google.colab.kernel.accessAllowed ? 'block' : 'none';\n",
              "\n",
              "        async function convertToInteractive(key) {\n",
              "          const element = document.querySelector('#df-ef2e4b15-e995-4a90-81d7-0b3ab869824f');\n",
              "          const dataTable =\n",
              "            await google.colab.kernel.invokeFunction('convertToInteractive',\n",
              "                                                     [key], {});\n",
              "          if (!dataTable) return;\n",
              "\n",
              "          const docLinkHtml = 'Like what you see? Visit the ' +\n",
              "            '<a target=\"_blank\" href=https://colab.research.google.com/notebooks/data_table.ipynb>data table notebook</a>'\n",
              "            + ' to learn more about interactive tables.';\n",
              "          element.innerHTML = '';\n",
              "          dataTable['output_type'] = 'display_data';\n",
              "          await google.colab.output.renderOutput(dataTable, element);\n",
              "          const docLink = document.createElement('div');\n",
              "          docLink.innerHTML = docLinkHtml;\n",
              "          element.appendChild(docLink);\n",
              "        }\n",
              "      </script>\n",
              "    </div>\n",
              "  </div>\n",
              "  "
            ]
          },
          "metadata": {},
          "execution_count": 9
        }
      ]
    },
    {
      "cell_type": "code",
      "source": [],
      "metadata": {
        "id": "ZNWEryVKuvhF"
      },
      "execution_count": 9,
      "outputs": []
    },
    {
      "cell_type": "markdown",
      "source": [
        "Criando tabela de serie temporal com a diferença absoluta e percentual entre os preços médio de revenda mais baratos e mais caros, onde mostra o estado e a data."
      ],
      "metadata": {
        "id": "IttvvzWBjYef"
      }
    },
    {
      "cell_type": "code",
      "source": [
        "df_max = df.groupby('ANO-MES').max()['PREÇO MÉDIO REVENDA']\n",
        "df_min = df.groupby('ANO-MES').min()['PREÇO MÉDIO REVENDA']\n",
        "\n",
        "idx_max = df.groupby('ANO-MES')['PREÇO MÉDIO REVENDA'].idxmax()\n",
        "idx_min = df.groupby('ANO-MES')['PREÇO MÉDIO REVENDA'].idxmin()"
      ],
      "metadata": {
        "colab": {
          "base_uri": "https://localhost:8080/"
        },
        "id": "QsDtYIdPjhsV",
        "outputId": "90c36ed7-2778-40ee-eacf-cbd2c16cf4b6"
      },
      "execution_count": 10,
      "outputs": [
        {
          "output_type": "stream",
          "name": "stderr",
          "text": [
            "<ipython-input-10-1cb9b8e57b24>:1: FutureWarning: Dropping invalid columns in DataFrameGroupBy.max is deprecated. In a future version, a TypeError will be raised. Before calling .max, select only columns which should be valid for the function.\n",
            "  df_max = df.groupby('ANO-MES').max()['PREÇO MÉDIO REVENDA']\n",
            "<ipython-input-10-1cb9b8e57b24>:2: FutureWarning: Dropping invalid columns in DataFrameGroupBy.min is deprecated. In a future version, a TypeError will be raised. Before calling .min, select only columns which should be valid for the function.\n",
            "  df_min = df.groupby('ANO-MES').min()['PREÇO MÉDIO REVENDA']\n"
          ]
        }
      ]
    },
    {
      "cell_type": "code",
      "source": [
        "#Criando DataFrame vazio para anexar os dados\n",
        "df_diff = pd.DataFrame()"
      ],
      "metadata": {
        "id": "L6vEnLKCkugl"
      },
      "execution_count": 11,
      "outputs": []
    },
    {
      "cell_type": "code",
      "source": [
        "#Diferença absoluta entre os valores máximos e minimos por ano e mês\n",
        "df_diff['abs_diff'] = df_max - df_min\n",
        "df_diff['abs_diff(%)'] = (df_max - df_min) / df_min * 100\n",
        "\n",
        "df_diff['max'] = df_max\n",
        "df_diff['min'] = df_min\n"
      ],
      "metadata": {
        "id": "FSl3ERzojyKx"
      },
      "execution_count": 12,
      "outputs": []
    },
    {
      "cell_type": "code",
      "source": [
        "#Adicionando os estados\n",
        "df.loc[idx_max, :][['ESTADO', 'PREÇO MÉDIO REVENDA']]"
      ],
      "metadata": {
        "colab": {
          "base_uri": "https://localhost:8080/",
          "height": 423
        },
        "id": "Ovo_FfP5nwtT",
        "outputId": "c7f0ce19-a24d-4eec-b00d-ec039116e2bc"
      },
      "execution_count": 13,
      "outputs": [
        {
          "output_type": "execute_result",
          "data": {
            "text/plain": [
              "            ESTADO  PREÇO MÉDIO REVENDA\n",
              "18529         ACRE               39.328\n",
              "18529         ACRE                3.259\n",
              "18610         ACRE               39.046\n",
              "18610     MARANHAO                2.300\n",
              "18826         ACRE               39.081\n",
              "...            ...                  ...\n",
              "75783  MATO GROSSO               98.220\n",
              "76305        AMAPA              101.444\n",
              "77018         ACRE              107.500\n",
              "77562  MATO GROSSO              105.194\n",
              "78098  MATO GROSSO              103.915\n",
              "\n",
              "[353 rows x 2 columns]"
            ],
            "text/html": [
              "\n",
              "  <div id=\"df-fe153068-4e67-4243-af4e-57fe75697a20\">\n",
              "    <div class=\"colab-df-container\">\n",
              "      <div>\n",
              "<style scoped>\n",
              "    .dataframe tbody tr th:only-of-type {\n",
              "        vertical-align: middle;\n",
              "    }\n",
              "\n",
              "    .dataframe tbody tr th {\n",
              "        vertical-align: top;\n",
              "    }\n",
              "\n",
              "    .dataframe thead th {\n",
              "        text-align: right;\n",
              "    }\n",
              "</style>\n",
              "<table border=\"1\" class=\"dataframe\">\n",
              "  <thead>\n",
              "    <tr style=\"text-align: right;\">\n",
              "      <th></th>\n",
              "      <th>ESTADO</th>\n",
              "      <th>PREÇO MÉDIO REVENDA</th>\n",
              "    </tr>\n",
              "  </thead>\n",
              "  <tbody>\n",
              "    <tr>\n",
              "      <th>18529</th>\n",
              "      <td>ACRE</td>\n",
              "      <td>39.328</td>\n",
              "    </tr>\n",
              "    <tr>\n",
              "      <th>18529</th>\n",
              "      <td>ACRE</td>\n",
              "      <td>3.259</td>\n",
              "    </tr>\n",
              "    <tr>\n",
              "      <th>18610</th>\n",
              "      <td>ACRE</td>\n",
              "      <td>39.046</td>\n",
              "    </tr>\n",
              "    <tr>\n",
              "      <th>18610</th>\n",
              "      <td>MARANHAO</td>\n",
              "      <td>2.300</td>\n",
              "    </tr>\n",
              "    <tr>\n",
              "      <th>18826</th>\n",
              "      <td>ACRE</td>\n",
              "      <td>39.081</td>\n",
              "    </tr>\n",
              "    <tr>\n",
              "      <th>...</th>\n",
              "      <td>...</td>\n",
              "      <td>...</td>\n",
              "    </tr>\n",
              "    <tr>\n",
              "      <th>75783</th>\n",
              "      <td>MATO GROSSO</td>\n",
              "      <td>98.220</td>\n",
              "    </tr>\n",
              "    <tr>\n",
              "      <th>76305</th>\n",
              "      <td>AMAPA</td>\n",
              "      <td>101.444</td>\n",
              "    </tr>\n",
              "    <tr>\n",
              "      <th>77018</th>\n",
              "      <td>ACRE</td>\n",
              "      <td>107.500</td>\n",
              "    </tr>\n",
              "    <tr>\n",
              "      <th>77562</th>\n",
              "      <td>MATO GROSSO</td>\n",
              "      <td>105.194</td>\n",
              "    </tr>\n",
              "    <tr>\n",
              "      <th>78098</th>\n",
              "      <td>MATO GROSSO</td>\n",
              "      <td>103.915</td>\n",
              "    </tr>\n",
              "  </tbody>\n",
              "</table>\n",
              "<p>353 rows × 2 columns</p>\n",
              "</div>\n",
              "      <button class=\"colab-df-convert\" onclick=\"convertToInteractive('df-fe153068-4e67-4243-af4e-57fe75697a20')\"\n",
              "              title=\"Convert this dataframe to an interactive table.\"\n",
              "              style=\"display:none;\">\n",
              "        \n",
              "  <svg xmlns=\"http://www.w3.org/2000/svg\" height=\"24px\"viewBox=\"0 0 24 24\"\n",
              "       width=\"24px\">\n",
              "    <path d=\"M0 0h24v24H0V0z\" fill=\"none\"/>\n",
              "    <path d=\"M18.56 5.44l.94 2.06.94-2.06 2.06-.94-2.06-.94-.94-2.06-.94 2.06-2.06.94zm-11 1L8.5 8.5l.94-2.06 2.06-.94-2.06-.94L8.5 2.5l-.94 2.06-2.06.94zm10 10l.94 2.06.94-2.06 2.06-.94-2.06-.94-.94-2.06-.94 2.06-2.06.94z\"/><path d=\"M17.41 7.96l-1.37-1.37c-.4-.4-.92-.59-1.43-.59-.52 0-1.04.2-1.43.59L10.3 9.45l-7.72 7.72c-.78.78-.78 2.05 0 2.83L4 21.41c.39.39.9.59 1.41.59.51 0 1.02-.2 1.41-.59l7.78-7.78 2.81-2.81c.8-.78.8-2.07 0-2.86zM5.41 20L4 18.59l7.72-7.72 1.47 1.35L5.41 20z\"/>\n",
              "  </svg>\n",
              "      </button>\n",
              "      \n",
              "  <style>\n",
              "    .colab-df-container {\n",
              "      display:flex;\n",
              "      flex-wrap:wrap;\n",
              "      gap: 12px;\n",
              "    }\n",
              "\n",
              "    .colab-df-convert {\n",
              "      background-color: #E8F0FE;\n",
              "      border: none;\n",
              "      border-radius: 50%;\n",
              "      cursor: pointer;\n",
              "      display: none;\n",
              "      fill: #1967D2;\n",
              "      height: 32px;\n",
              "      padding: 0 0 0 0;\n",
              "      width: 32px;\n",
              "    }\n",
              "\n",
              "    .colab-df-convert:hover {\n",
              "      background-color: #E2EBFA;\n",
              "      box-shadow: 0px 1px 2px rgba(60, 64, 67, 0.3), 0px 1px 3px 1px rgba(60, 64, 67, 0.15);\n",
              "      fill: #174EA6;\n",
              "    }\n",
              "\n",
              "    [theme=dark] .colab-df-convert {\n",
              "      background-color: #3B4455;\n",
              "      fill: #D2E3FC;\n",
              "    }\n",
              "\n",
              "    [theme=dark] .colab-df-convert:hover {\n",
              "      background-color: #434B5C;\n",
              "      box-shadow: 0px 1px 3px 1px rgba(0, 0, 0, 0.15);\n",
              "      filter: drop-shadow(0px 1px 2px rgba(0, 0, 0, 0.3));\n",
              "      fill: #FFFFFF;\n",
              "    }\n",
              "  </style>\n",
              "\n",
              "      <script>\n",
              "        const buttonEl =\n",
              "          document.querySelector('#df-fe153068-4e67-4243-af4e-57fe75697a20 button.colab-df-convert');\n",
              "        buttonEl.style.display =\n",
              "          google.colab.kernel.accessAllowed ? 'block' : 'none';\n",
              "\n",
              "        async function convertToInteractive(key) {\n",
              "          const element = document.querySelector('#df-fe153068-4e67-4243-af4e-57fe75697a20');\n",
              "          const dataTable =\n",
              "            await google.colab.kernel.invokeFunction('convertToInteractive',\n",
              "                                                     [key], {});\n",
              "          if (!dataTable) return;\n",
              "\n",
              "          const docLinkHtml = 'Like what you see? Visit the ' +\n",
              "            '<a target=\"_blank\" href=https://colab.research.google.com/notebooks/data_table.ipynb>data table notebook</a>'\n",
              "            + ' to learn more about interactive tables.';\n",
              "          element.innerHTML = '';\n",
              "          dataTable['output_type'] = 'display_data';\n",
              "          await google.colab.output.renderOutput(dataTable, element);\n",
              "          const docLink = document.createElement('div');\n",
              "          docLink.innerHTML = docLinkHtml;\n",
              "          element.appendChild(docLink);\n",
              "        }\n",
              "      </script>\n",
              "    </div>\n",
              "  </div>\n",
              "  "
            ]
          },
          "metadata": {},
          "execution_count": 13
        }
      ]
    },
    {
      "cell_type": "code",
      "source": [
        "df_diff"
      ],
      "metadata": {
        "colab": {
          "base_uri": "https://localhost:8080/",
          "height": 455
        },
        "id": "g2nZgqGB07ZX",
        "outputId": "97326122-8f8b-4729-bf96-1e6d82c0aa86"
      },
      "execution_count": 14,
      "outputs": [
        {
          "output_type": "execute_result",
          "data": {
            "text/plain": [
              "         abs_diff  abs_diff(%)      max    min\n",
              "ANO-MES                                       \n",
              "2004/05    38.562  5034.203655   39.328  0.766\n",
              "2004/06    38.159  4302.029312   39.046  0.887\n",
              "2004/07    38.182  4247.163515   39.081  0.899\n",
              "2004/08    38.053  3809.109109   39.052  0.999\n",
              "2004/09    38.031  3806.906907   39.030  0.999\n",
              "...           ...          ...      ...    ...\n",
              "2021/01    95.521  3539.125602   98.220  2.699\n",
              "2021/02    98.645  3524.294391  101.444  2.799\n",
              "2021/03   104.751  3810.512914  107.500  2.749\n",
              "2021/04   102.370  3625.000000  105.194  2.824\n",
              "2021/05   101.091  3579.709632  103.915  2.824\n",
              "\n",
              "[204 rows x 4 columns]"
            ],
            "text/html": [
              "\n",
              "  <div id=\"df-fe8990d5-7437-4c17-81d2-1c820e20c6aa\">\n",
              "    <div class=\"colab-df-container\">\n",
              "      <div>\n",
              "<style scoped>\n",
              "    .dataframe tbody tr th:only-of-type {\n",
              "        vertical-align: middle;\n",
              "    }\n",
              "\n",
              "    .dataframe tbody tr th {\n",
              "        vertical-align: top;\n",
              "    }\n",
              "\n",
              "    .dataframe thead th {\n",
              "        text-align: right;\n",
              "    }\n",
              "</style>\n",
              "<table border=\"1\" class=\"dataframe\">\n",
              "  <thead>\n",
              "    <tr style=\"text-align: right;\">\n",
              "      <th></th>\n",
              "      <th>abs_diff</th>\n",
              "      <th>abs_diff(%)</th>\n",
              "      <th>max</th>\n",
              "      <th>min</th>\n",
              "    </tr>\n",
              "    <tr>\n",
              "      <th>ANO-MES</th>\n",
              "      <th></th>\n",
              "      <th></th>\n",
              "      <th></th>\n",
              "      <th></th>\n",
              "    </tr>\n",
              "  </thead>\n",
              "  <tbody>\n",
              "    <tr>\n",
              "      <th>2004/05</th>\n",
              "      <td>38.562</td>\n",
              "      <td>5034.203655</td>\n",
              "      <td>39.328</td>\n",
              "      <td>0.766</td>\n",
              "    </tr>\n",
              "    <tr>\n",
              "      <th>2004/06</th>\n",
              "      <td>38.159</td>\n",
              "      <td>4302.029312</td>\n",
              "      <td>39.046</td>\n",
              "      <td>0.887</td>\n",
              "    </tr>\n",
              "    <tr>\n",
              "      <th>2004/07</th>\n",
              "      <td>38.182</td>\n",
              "      <td>4247.163515</td>\n",
              "      <td>39.081</td>\n",
              "      <td>0.899</td>\n",
              "    </tr>\n",
              "    <tr>\n",
              "      <th>2004/08</th>\n",
              "      <td>38.053</td>\n",
              "      <td>3809.109109</td>\n",
              "      <td>39.052</td>\n",
              "      <td>0.999</td>\n",
              "    </tr>\n",
              "    <tr>\n",
              "      <th>2004/09</th>\n",
              "      <td>38.031</td>\n",
              "      <td>3806.906907</td>\n",
              "      <td>39.030</td>\n",
              "      <td>0.999</td>\n",
              "    </tr>\n",
              "    <tr>\n",
              "      <th>...</th>\n",
              "      <td>...</td>\n",
              "      <td>...</td>\n",
              "      <td>...</td>\n",
              "      <td>...</td>\n",
              "    </tr>\n",
              "    <tr>\n",
              "      <th>2021/01</th>\n",
              "      <td>95.521</td>\n",
              "      <td>3539.125602</td>\n",
              "      <td>98.220</td>\n",
              "      <td>2.699</td>\n",
              "    </tr>\n",
              "    <tr>\n",
              "      <th>2021/02</th>\n",
              "      <td>98.645</td>\n",
              "      <td>3524.294391</td>\n",
              "      <td>101.444</td>\n",
              "      <td>2.799</td>\n",
              "    </tr>\n",
              "    <tr>\n",
              "      <th>2021/03</th>\n",
              "      <td>104.751</td>\n",
              "      <td>3810.512914</td>\n",
              "      <td>107.500</td>\n",
              "      <td>2.749</td>\n",
              "    </tr>\n",
              "    <tr>\n",
              "      <th>2021/04</th>\n",
              "      <td>102.370</td>\n",
              "      <td>3625.000000</td>\n",
              "      <td>105.194</td>\n",
              "      <td>2.824</td>\n",
              "    </tr>\n",
              "    <tr>\n",
              "      <th>2021/05</th>\n",
              "      <td>101.091</td>\n",
              "      <td>3579.709632</td>\n",
              "      <td>103.915</td>\n",
              "      <td>2.824</td>\n",
              "    </tr>\n",
              "  </tbody>\n",
              "</table>\n",
              "<p>204 rows × 4 columns</p>\n",
              "</div>\n",
              "      <button class=\"colab-df-convert\" onclick=\"convertToInteractive('df-fe8990d5-7437-4c17-81d2-1c820e20c6aa')\"\n",
              "              title=\"Convert this dataframe to an interactive table.\"\n",
              "              style=\"display:none;\">\n",
              "        \n",
              "  <svg xmlns=\"http://www.w3.org/2000/svg\" height=\"24px\"viewBox=\"0 0 24 24\"\n",
              "       width=\"24px\">\n",
              "    <path d=\"M0 0h24v24H0V0z\" fill=\"none\"/>\n",
              "    <path d=\"M18.56 5.44l.94 2.06.94-2.06 2.06-.94-2.06-.94-.94-2.06-.94 2.06-2.06.94zm-11 1L8.5 8.5l.94-2.06 2.06-.94-2.06-.94L8.5 2.5l-.94 2.06-2.06.94zm10 10l.94 2.06.94-2.06 2.06-.94-2.06-.94-.94-2.06-.94 2.06-2.06.94z\"/><path d=\"M17.41 7.96l-1.37-1.37c-.4-.4-.92-.59-1.43-.59-.52 0-1.04.2-1.43.59L10.3 9.45l-7.72 7.72c-.78.78-.78 2.05 0 2.83L4 21.41c.39.39.9.59 1.41.59.51 0 1.02-.2 1.41-.59l7.78-7.78 2.81-2.81c.8-.78.8-2.07 0-2.86zM5.41 20L4 18.59l7.72-7.72 1.47 1.35L5.41 20z\"/>\n",
              "  </svg>\n",
              "      </button>\n",
              "      \n",
              "  <style>\n",
              "    .colab-df-container {\n",
              "      display:flex;\n",
              "      flex-wrap:wrap;\n",
              "      gap: 12px;\n",
              "    }\n",
              "\n",
              "    .colab-df-convert {\n",
              "      background-color: #E8F0FE;\n",
              "      border: none;\n",
              "      border-radius: 50%;\n",
              "      cursor: pointer;\n",
              "      display: none;\n",
              "      fill: #1967D2;\n",
              "      height: 32px;\n",
              "      padding: 0 0 0 0;\n",
              "      width: 32px;\n",
              "    }\n",
              "\n",
              "    .colab-df-convert:hover {\n",
              "      background-color: #E2EBFA;\n",
              "      box-shadow: 0px 1px 2px rgba(60, 64, 67, 0.3), 0px 1px 3px 1px rgba(60, 64, 67, 0.15);\n",
              "      fill: #174EA6;\n",
              "    }\n",
              "\n",
              "    [theme=dark] .colab-df-convert {\n",
              "      background-color: #3B4455;\n",
              "      fill: #D2E3FC;\n",
              "    }\n",
              "\n",
              "    [theme=dark] .colab-df-convert:hover {\n",
              "      background-color: #434B5C;\n",
              "      box-shadow: 0px 1px 3px 1px rgba(0, 0, 0, 0.15);\n",
              "      filter: drop-shadow(0px 1px 2px rgba(0, 0, 0, 0.3));\n",
              "      fill: #FFFFFF;\n",
              "    }\n",
              "  </style>\n",
              "\n",
              "      <script>\n",
              "        const buttonEl =\n",
              "          document.querySelector('#df-fe8990d5-7437-4c17-81d2-1c820e20c6aa button.colab-df-convert');\n",
              "        buttonEl.style.display =\n",
              "          google.colab.kernel.accessAllowed ? 'block' : 'none';\n",
              "\n",
              "        async function convertToInteractive(key) {\n",
              "          const element = document.querySelector('#df-fe8990d5-7437-4c17-81d2-1c820e20c6aa');\n",
              "          const dataTable =\n",
              "            await google.colab.kernel.invokeFunction('convertToInteractive',\n",
              "                                                     [key], {});\n",
              "          if (!dataTable) return;\n",
              "\n",
              "          const docLinkHtml = 'Like what you see? Visit the ' +\n",
              "            '<a target=\"_blank\" href=https://colab.research.google.com/notebooks/data_table.ipynb>data table notebook</a>'\n",
              "            + ' to learn more about interactive tables.';\n",
              "          element.innerHTML = '';\n",
              "          dataTable['output_type'] = 'display_data';\n",
              "          await google.colab.output.renderOutput(dataTable, element);\n",
              "          const docLink = document.createElement('div');\n",
              "          docLink.innerHTML = docLinkHtml;\n",
              "          element.appendChild(docLink);\n",
              "        }\n",
              "      </script>\n",
              "    </div>\n",
              "  </div>\n",
              "  "
            ]
          },
          "metadata": {},
          "execution_count": 14
        }
      ]
    },
    {
      "cell_type": "code",
      "source": [],
      "metadata": {
        "id": "6XUa_KojgsPF"
      },
      "execution_count": 14,
      "outputs": []
    }
  ]
}